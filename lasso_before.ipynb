{
 "cells": [
  {
   "cell_type": "code",
   "execution_count": null,
   "metadata": {},
   "outputs": [],
   "source": [
    "import random\n",
    "random.seed(42)"
   ]
  },
  {
   "cell_type": "code",
   "execution_count": 1,
   "metadata": {},
   "outputs": [],
   "source": [
    "import numpy as np\n",
    "import pandas as pd\n",
    "import seaborn as sns\n",
    "import matplotlib.pyplot as plt\n",
    "from copy import deepcopy\n",
    "# for sqrt \n",
    "import math\n",
    "from feature_selector import FeatureSelector\n",
    "\n",
    "from sklearn.metrics import mean_squared_error as mse\n",
    "import copy\n",
    "\n",
    "\n",
    "#load datasets\n",
    "test_id = list(np.arange(0, 2930,3))\n",
    "data = pd.read_csv('Ames_data.csv')\n",
    "train_id = list(set(np.arange(0, 2930))-set(test_id))\n",
    "\n",
    "train = data.iloc[train_id,:]\n",
    "test = data.iloc[test_id,:]\n",
    "\n",
    "#extract train-test target variable\n",
    "train_target = pd.DataFrame(np.log(train['Sale_Price']))\n",
    "test_target = pd.DataFrame(np.log(test['Sale_Price']))\n",
    "\n",
    "#drop the tatget variable from train-test\n",
    "train = train.drop(columns=['Sale_Price','MS_Zoning','Street','Utilities','Land_Slope','Condition_2', \n",
    "                            'Roof_Matl', 'Heating', 'Pool_QC', 'Misc_Feature', 'Low_Qual_Fin_SF', \n",
    "                            'Three_season_porch', 'Pool_Area', 'Misc_Val', 'Longitude','Latitude',\n",
    "                           'Alley','Bsmt_Cond','Central_Air','Electrical','Functional','Garage_Qual'])\n",
    "test = test.drop(columns=['Sale_Price','MS_Zoning','Street','Utilities','Land_Slope','Condition_2', \n",
    "                            'Roof_Matl', 'Heating', 'Pool_QC', 'Misc_Feature', 'Low_Qual_Fin_SF', \n",
    "                            'Three_season_porch', 'Pool_Area', 'Misc_Val', 'Longitude','Latitude',\n",
    "                         'Alley','Bsmt_Cond','Central_Air','Electrical','Functional','Garage_Qual'])\n",
    "\n"
   ]
  },
  {
   "cell_type": "code",
   "execution_count": null,
   "metadata": {},
   "outputs": [],
   "source": [
    "train['int_liv_lot_area'] = train['Gr_Liv_Area']*train['Lot_Area']\n",
    "train['int_liv_total_bsmt'] = train['Gr_Liv_Area']*train['Total_Bsmt_SF']\n",
    "train['int_live_garage_liv'] = train['Gr_Liv_Area']*train['Garage_Yr_Blt']\n",
    "train['int_first_area_garage'] = train['First_Flr_SF']*train['Garage_Area']\n",
    "\n",
    "test['int_liv_lot_area'] = test['Gr_Liv_Area']*test['Lot_Area']\n",
    "test['int_liv_total_bsmt'] = test['Gr_Liv_Area']*test['Total_Bsmt_SF']\n",
    "test['int_live_garage_liv'] = test['Gr_Liv_Area']*test['Garage_Yr_Blt']\n",
    "test['int_first_area_garage'] = test['First_Flr_SF']*test['Garage_Area']"
   ]
  },
  {
   "cell_type": "code",
   "execution_count": null,
   "metadata": {},
   "outputs": [],
   "source": [
    "#dummy coding process\n",
    "categorical_features = [col for col in train.columns if train[col].dtypes =='object']\n",
    "train = pd.get_dummies(train,columns = categorical_features)\n",
    "test = pd.get_dummies(test,columns = categorical_features)\n",
    "\n",
    "#make sure train-test has same shape and columns\n",
    "train_features,test_features = train.align(test,join = 'inner',axis=1)"
   ]
  },
  {
   "cell_type": "code",
   "execution_count": null,
   "metadata": {},
   "outputs": [],
   "source": [
    "fs = FeatureSelector(data = train_features, labels = train_target)\n",
    "\n",
    "fs.identify_all(selection_params = {'missing_threshold': 0.8, 'correlation_threshold': 0.8, \n",
    "                                    'task': 'regression', 'eval_metric': 'l2', \n",
    "                                     'cumulative_importance': 0.95})\n"
   ]
  },
  {
   "cell_type": "code",
   "execution_count": null,
   "metadata": {},
   "outputs": [],
   "source": [
    "# list(train.columns)"
   ]
  },
  {
   "cell_type": "code",
   "execution_count": null,
   "metadata": {},
   "outputs": [],
   "source": [
    "# train['Lot_Area'].head(3)"
   ]
  },
  {
   "cell_type": "code",
   "execution_count": null,
   "metadata": {},
   "outputs": [],
   "source": []
  },
  {
   "cell_type": "code",
   "execution_count": null,
   "metadata": {},
   "outputs": [],
   "source": [
    "fs.plot_feature_importances(threshold = 0.9)\n"
   ]
  },
  {
   "cell_type": "code",
   "execution_count": null,
   "metadata": {},
   "outputs": [],
   "source": [
    "# train_features = fs.remove('all')\n",
    "# train_features,test_features =train_features.align(test_features,join = 'inner',axis=1)"
   ]
  },
  {
   "cell_type": "code",
   "execution_count": null,
   "metadata": {
    "scrolled": true
   },
   "outputs": [],
   "source": [
    "test_features.shape"
   ]
  },
  {
   "cell_type": "code",
   "execution_count": null,
   "metadata": {},
   "outputs": [],
   "source": [
    "def rmse(true,predicted):\n",
    "    return math.sqrt(mse(true,predicted))"
   ]
  },
  {
   "cell_type": "code",
   "execution_count": null,
   "metadata": {},
   "outputs": [],
   "source": [
    "#impute the data\n",
    "from sklearn.preprocessing import StandardScaler,Imputer,PolynomialFeatures\n",
    "\n",
    "im = Imputer(strategy = 'median')\n",
    "im.fit(train_features)\n",
    "\n",
    "train_features_np = im.transform(train_features)\n",
    "test_features_np = im.transform(test_features)\n",
    "\n",
    "print(np.where(~np.isfinite(train_features_np)))\n",
    "print(np.where(~np.isfinite(test_features_np)))\n",
    "\n",
    "#scale the data\n",
    "scaler = StandardScaler()\n",
    "# Fit on training set only.\n",
    "scaler.fit(train_features_np)\n",
    "# Apply transform to both the training set and the test set.\n",
    "train_features_np = scaler.transform(train_features_np)\n",
    "test_features_np = scaler.transform(test_features_np)\n",
    "\n",
    "# poly = PolynomialFeatures(2)\n",
    "# poly.fit(train_features_np)\n",
    "# # Apply transform to both the training set and the test set.\n",
    "# train_features_np = poly.transform(train_features_np)\n",
    "# test_features_np = poly.transform(test_features_np)\n"
   ]
  },
  {
   "cell_type": "code",
   "execution_count": null,
   "metadata": {},
   "outputs": [],
   "source": [
    "\n",
    "train_target = np.array(train_target).reshape((-1, 1))\n",
    "train_target.shape\n",
    "\n",
    "#scale the data\n",
    "scalery = StandardScaler()\n",
    "# Fit on training set only.\n",
    "scalery.fit(train_target)\n",
    "\n",
    "y_compute = scalery.transform(train_target)"
   ]
  },
  {
   "cell_type": "code",
   "execution_count": null,
   "metadata": {},
   "outputs": [],
   "source": [
    "y_compute = np.array(y_compute).reshape((-1, ))"
   ]
  },
  {
   "cell_type": "code",
   "execution_count": null,
   "metadata": {},
   "outputs": [],
   "source": [
    "y_compute.shape"
   ]
  },
  {
   "cell_type": "code",
   "execution_count": null,
   "metadata": {},
   "outputs": [],
   "source": [
    "def one_step_lasso(r, x, lam):\n",
    "    xx = np.sum(np.square(x))\n",
    "    xr = np.sum(np.dot(r,x))\n",
    "    b = (np.abs(xr) -lam/2)/xx\n",
    "    b = sign(xr)*ifelse(b>0, b, 0)\n",
    "    return b"
   ]
  },
  {
   "cell_type": "code",
   "execution_count": null,
   "metadata": {},
   "outputs": [],
   "source": [
    "def sign(arg):\n",
    "    if arg > 0:\n",
    "        return 1\n",
    "    elif arg == 0:\n",
    "        return 0\n",
    "    else:\n",
    "        return -1\n",
    "    \n",
    "def ifelse(arg,a,b):\n",
    "    if arg == True:\n",
    "        return a\n",
    "    else:\n",
    "        return b\n",
    "    \n",
    "\n",
    "def mylasso(X,y,lam,n_iter = 50):\n",
    "    \"\"\"\n",
    "    X: n-by-p design matrix,make sure it's scaled and centered \n",
    "    y:n-by-1 response vector,make sure it's centered \n",
    "    lam:lambda value\n",
    "    n_iter: number of iterations\n",
    "    \"\"\"\n",
    "    b = np.repeat(0.00000000, train_features_np.shape[1])\n",
    "    r = y\n",
    "    iteration = 0\n",
    "    d = np.size(X, 1)\n",
    "    while iteration < n_iter:\n",
    "        for j in range(d):\n",
    "            \n",
    "            #update the residual vector\n",
    "            r = r + np.dot(train_features_np[:, j],b[j])\n",
    "            \n",
    "            #apply one step lasso\n",
    "            b[j] = one_step_lasso(r,X[:, j],lam)                                  \n",
    "            r = r - np.dot(X[:, j],one_step_lasso(r,X[:, j],lam))\n",
    "        iteration += 1\n",
    "    return b"
   ]
  },
  {
   "cell_type": "code",
   "execution_count": null,
   "metadata": {
    "scrolled": true
   },
   "outputs": [],
   "source": [
    "coefficient = mylasso(train_features_np,y_compute,17)"
   ]
  },
  {
   "cell_type": "code",
   "execution_count": null,
   "metadata": {},
   "outputs": [],
   "source": [
    "predicited = np.dot(test_features_np,coefficient)"
   ]
  },
  {
   "cell_type": "code",
   "execution_count": null,
   "metadata": {},
   "outputs": [],
   "source": [
    "rmse(scalery.inverse_transform(predicited),np.array(test_target).reshape((-1, )))"
   ]
  },
  {
   "cell_type": "code",
   "execution_count": null,
   "metadata": {},
   "outputs": [],
   "source": [
    "lambda_list = np.logspace(-10,2,100)"
   ]
  },
  {
   "cell_type": "code",
   "execution_count": null,
   "metadata": {},
   "outputs": [],
   "source": [
    "lambda_list.shape"
   ]
  },
  {
   "cell_type": "code",
   "execution_count": null,
   "metadata": {},
   "outputs": [],
   "source": [
    "lambda_optimal = pd.DataFrame(columns=['lambda','RMSE'])"
   ]
  },
  {
   "cell_type": "code",
   "execution_count": null,
   "metadata": {},
   "outputs": [],
   "source": [
    "lambda_optimal['lambda'] = lambda_list"
   ]
  },
  {
   "cell_type": "code",
   "execution_count": null,
   "metadata": {},
   "outputs": [],
   "source": [
    "for i in range(100):\n",
    "    lam = lambda_list[i]\n",
    "    coefficient = mylasso(train_features_np,y_compute,lam)\n",
    "    predicited = np.dot(test_features_np,coefficient)\n",
    "    result = rmse(scalery.inverse_transform(predicited),np.array(test_target).reshape((-1, )))\n",
    "    lambda_optimal['RMSE'][i] = result"
   ]
  },
  {
   "cell_type": "code",
   "execution_count": null,
   "metadata": {},
   "outputs": [],
   "source": [
    "random_results = pd.DataFrame(lambda_optimal).sort_values('RMSE', ascending = True)\n"
   ]
  },
  {
   "cell_type": "code",
   "execution_count": null,
   "metadata": {},
   "outputs": [],
   "source": [
    "random_results.head(3)"
   ]
  },
  {
   "cell_type": "code",
   "execution_count": null,
   "metadata": {},
   "outputs": [],
   "source": [
    "coefficient1 = mylasso(train_features_np,y_compute,0.869749)\n",
    "predicited1 = test_features_np.dot(coefficient1)\n",
    "result1 = rmse(scalery.inverse_transform(predicited1),np.array(test_target).reshape((-1, )))"
   ]
  },
  {
   "cell_type": "code",
   "execution_count": null,
   "metadata": {},
   "outputs": [],
   "source": [
    "test_features_np.dot(coefficient1)"
   ]
  },
  {
   "cell_type": "code",
   "execution_count": null,
   "metadata": {},
   "outputs": [],
   "source": [
    "test_features_np.shape"
   ]
  },
  {
   "cell_type": "code",
   "execution_count": null,
   "metadata": {},
   "outputs": [],
   "source": [
    "coefficient1.shape"
   ]
  },
  {
   "cell_type": "code",
   "execution_count": null,
   "metadata": {},
   "outputs": [],
   "source": [
    "test_features_np.dot(coefficient1)"
   ]
  },
  {
   "cell_type": "code",
   "execution_count": 2,
   "metadata": {},
   "outputs": [
    {
     "data": {
      "text/plain": [
       "59874.14171519782"
      ]
     },
     "execution_count": 2,
     "metadata": {},
     "output_type": "execute_result"
    }
   ],
   "source": [
    "np.exp(11)"
   ]
  },
  {
   "cell_type": "code",
   "execution_count": null,
   "metadata": {},
   "outputs": [],
   "source": []
  }
 ],
 "metadata": {
  "kernelspec": {
   "display_name": "Python 3",
   "language": "python",
   "name": "python3"
  },
  "language_info": {
   "codemirror_mode": {
    "name": "ipython",
    "version": 3
   },
   "file_extension": ".py",
   "mimetype": "text/x-python",
   "name": "python",
   "nbconvert_exporter": "python",
   "pygments_lexer": "ipython3",
   "version": "3.6.5"
  }
 },
 "nbformat": 4,
 "nbformat_minor": 2
}
